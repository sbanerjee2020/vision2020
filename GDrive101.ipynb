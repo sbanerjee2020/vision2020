{
  "nbformat": 4,
  "nbformat_minor": 0,
  "metadata": {
    "colab": {
      "name": "GDrive101.ipynb",
      "version": "0.3.2",
      "provenance": [],
      "collapsed_sections": [],
      "include_colab_link": true
    },
    "kernelspec": {
      "name": "python3",
      "display_name": "Python 3"
    }
  },
  "cells": [
    {
      "cell_type": "markdown",
      "metadata": {
        "id": "view-in-github",
        "colab_type": "text"
      },
      "source": [
        "<a href=\"https://colab.research.google.com/github/sbanerjee2020/vision2020/blob/master/GDrive101.ipynb\" target=\"_parent\"><img src=\"https://colab.research.google.com/assets/colab-badge.svg\" alt=\"Open In Colab\"/></a>"
      ]
    },
    {
      "metadata": {
        "id": "uRZXETSdl48e",
        "colab_type": "text"
      },
      "cell_type": "markdown",
      "source": [
        "# GDrive\n",
        "How to export data frames which are created in google colab to your local machine? \n",
        "I have cleaned a data set on google colab. Now I want to export the data frame to my local machine. df.to_csv is saving file to the virtual machine and not my local machine.\n",
        "\n",
        "\n",
        "This was the breakthrough https://stackoverflow.com/questions/49394737/exporting-data-from-google-colab-to-local-machine"
      ]
    },
    {
      "metadata": {
        "id": "aPRzX7D_l5O_",
        "colab_type": "text"
      },
      "cell_type": "markdown",
      "source": [
        "You can download the csv to your associated google drive. First you must install PyDrive.\n",
        "\n",
        "!pip install -U -q PyDrive <br>\n",
        "from pydrive.auth import GoogleAuth <br>\n",
        "from pydrive.drive import GoogleDrive  <br>\n",
        "from google.colab import auth  <br>\n",
        "from google.colab import files  <br>\n",
        "from oauth2client.client import GoogleCredentials  <br>"
      ]
    },
    {
      "metadata": {
        "id": "QEvb0ki7lm33",
        "colab_type": "code",
        "colab": {}
      },
      "cell_type": "code",
      "source": [
        "!pip install -U -q PyDrive\n"
      ],
      "execution_count": 0,
      "outputs": []
    },
    {
      "metadata": {
        "id": "IehqtFZUmYeM",
        "colab_type": "code",
        "colab": {}
      },
      "cell_type": "code",
      "source": [
        "from pydrive.auth import GoogleAuth\n",
        "from pydrive.drive import GoogleDrive\n",
        "from google.colab import auth\n",
        "from google.colab import files\n",
        "from oauth2client.client import GoogleCredentials"
      ],
      "execution_count": 0,
      "outputs": []
    },
    {
      "metadata": {
        "id": "mYoEirLumZAI",
        "colab_type": "code",
        "colab": {}
      },
      "cell_type": "code",
      "source": [
        "auth.authenticate_user()\n",
        "gauth = GoogleAuth()\n",
        "gauth.credentials = GoogleCredentials.get_application_default()\n",
        "drive = GoogleDrive(gauth)"
      ],
      "execution_count": 0,
      "outputs": []
    },
    {
      "metadata": {
        "id": "5mItVIFJmc3x",
        "colab_type": "code",
        "colab": {
          "base_uri": "https://localhost:8080/",
          "height": 115
        },
        "outputId": "9123a8e4-34f0-45f0-e10f-d4f1525275e2"
      },
      "cell_type": "code",
      "source": [
        "!ls -al "
      ],
      "execution_count": 4,
      "outputs": [
        {
          "output_type": "stream",
          "text": [
            "total 28\n",
            "drwxr-xr-x 1 root root 4096 Oct 31 05:30 .\n",
            "drwxr-xr-x 1 root root 4096 Oct 31 05:26 ..\n",
            "-rw-r--r-- 1 root root 2537 Oct 31 05:30 adc.json\n",
            "drwxr-xr-x 1 root root 4096 Oct 31 05:30 .config\n",
            "drwxr-xr-x 2 root root 4096 Oct 29 16:42 sample_data\n"
          ],
          "name": "stdout"
        }
      ]
    },
    {
      "metadata": {
        "id": "Z4-W5trDmmHG",
        "colab_type": "code",
        "colab": {
          "base_uri": "https://localhost:8080/",
          "height": 32
        },
        "outputId": "cf37d29c-2326-416b-bce8-b820e9c57018"
      },
      "cell_type": "code",
      "source": [
        "drive"
      ],
      "execution_count": 5,
      "outputs": [
        {
          "output_type": "execute_result",
          "data": {
            "text/plain": [
              "<pydrive.drive.GoogleDrive at 0x7fa8126c7fd0>"
            ]
          },
          "metadata": {
            "tags": []
          },
          "execution_count": 5
        }
      ]
    },
    {
      "metadata": {
        "id": "T4iebgjwnPn5",
        "colab_type": "code",
        "colab": {}
      },
      "cell_type": "code",
      "source": [
        "# 1. Authenticate and create the PyDrive client.\n",
        "auth.authenticate_user()\n",
        "gauth = GoogleAuth()\n",
        "gauth.credentials = GoogleCredentials.get_application_default()\n",
        "drive = GoogleDrive(gauth)\n",
        "\n",
        "# PyDrive reference:\n",
        "# https://googledrive.github.io/PyDrive/docs/build/html/index.html\n",
        "\n"
      ],
      "execution_count": 0,
      "outputs": []
    },
    {
      "metadata": {
        "id": "1HfArwghp_gT",
        "colab_type": "text"
      },
      "cell_type": "markdown",
      "source": [
        "# List of File IDs"
      ]
    },
    {
      "metadata": {
        "id": "mYQTgA2SpMjR",
        "colab_type": "code",
        "colab": {
          "base_uri": "https://localhost:8080/",
          "height": 115
        },
        "outputId": "c165c3de-281a-458a-b696-1b282263aae1"
      },
      "cell_type": "code",
      "source": [
        "file_list = drive.ListFile({'q': \"'root' in parents and trashed=false\"}).GetList()\n",
        "for file1 in file_list:\n",
        "  print('title: %s, id: %s' % (file1['title'], file1['id']))"
      ],
      "execution_count": 13,
      "outputs": [
        {
          "output_type": "stream",
          "text": [
            "title: Eye_Health_2018, id: 1Q5xXVZTdk0F38lXpAtYiCnqbeAoa7zce\n",
            "title: CryptoVision2020, id: 1xlhxA5Y5DJqoV9qSMw_nHKzypb2W6J3o\n",
            "title: DR20181013.ipynb, id: 1sGHe9As1CHpMeNRLAq_YokjWUlPjhr76\n",
            "title: DR2018, id: 1tVkkV7yPOaTGlGF2hv7bY9fszqnNuIxF\n",
            "title: Colab Notebooks, id: 1liWclzdSM8eXhJEiX-YuTaPYszrz8zI0\n",
            "title: Getting started, id: 0B-ZPfcf8qX5zc3RhcnRlcl9maWxl\n"
          ],
          "name": "stdout"
        }
      ]
    },
    {
      "metadata": {
        "id": "msNyiEops_hY",
        "colab_type": "code",
        "colab": {
          "base_uri": "https://localhost:8080/",
          "height": 115
        },
        "outputId": "2af497c5-46b6-4b21-e0d8-3f31f581c28a"
      },
      "cell_type": "code",
      "source": [
        "file_list = drive.ListFile({'q': \"'1Q5xXVZTdk0F38lXpAtYiCnqbeAoa7zce' in parents and trashed=false\"}).GetList()\n",
        "for file1 in file_list:\n",
        "  print('title: %s, id: %s' % (file1['title'], file1['id']))"
      ],
      "execution_count": 23,
      "outputs": [
        {
          "output_type": "stream",
          "text": [
            "title: sample_data, id: 1uUwzQLXxAV3m2fjc7GfM2hkFApanQ-DX\n",
            "title: Getting_Started_With_Google_Collab.ipynb, id: 1phB4tmle6FbC3GhHIUhjjQwV-Ymtqaz6\n",
            "title: app, id: 1S_X260Jx0f5yCbzCfcYBsPZbWaxdtrqq\n",
            "title: Research_Materials, id: 1TfgxisPonRXNH5w7-EYYrWhfcaWZ6rH-M46LMKlGYjg\n",
            "title: OptoImage_Analysis, id: 10-XLcFj9FeoPmm6hGhhyJSw17DsL4WXwmD38Mc43nMU\n",
            "title: Data, id: 1B89xk8oQltibSq2TQ5mXaRoUMfrJxsZD\n"
          ],
          "name": "stdout"
        }
      ]
    },
    {
      "metadata": {
        "id": "aRaGojt7tn8t",
        "colab_type": "text"
      },
      "cell_type": "markdown",
      "source": [
        "###  The ID of sample_data is 1uUwzQLXxAV3m2fjc7GfM2hkFApanQ-DX"
      ]
    },
    {
      "metadata": {
        "id": "p5Kx3OE_qHM0",
        "colab_type": "text"
      },
      "cell_type": "markdown",
      "source": [
        "# Create and upload a Text file"
      ]
    },
    {
      "metadata": {
        "id": "DztLDWt_nTlL",
        "colab_type": "code",
        "colab": {
          "base_uri": "https://localhost:8080/",
          "height": 32
        },
        "outputId": "5376cd0a-6598-4684-d203-84fdf1b3f9a3"
      },
      "cell_type": "code",
      "source": [
        "# 2. Create & upload a text file.\n",
        "uploaded = drive.CreateFile({'title': 'Somnath_upload.txt'})\n",
        "uploaded.SetContentString('Somnath Sample upload file content')\n",
        "uploaded.Upload()\n",
        "print('Uploaded file with ID {}'.format(uploaded.get('id')))\n",
        "\n"
      ],
      "execution_count": 14,
      "outputs": [
        {
          "output_type": "stream",
          "text": [
            "Uploaded file with ID 1gaI2EmwQQmxyR60gZRlL55xpsewunIrQ\n"
          ],
          "name": "stdout"
        }
      ]
    },
    {
      "metadata": {
        "id": "xGfED0mJqZXT",
        "colab_type": "text"
      },
      "cell_type": "markdown",
      "source": [
        "# Create a Sample File with Parent ID"
      ]
    },
    {
      "metadata": {
        "id": "Ic9CbDXArT8k",
        "colab_type": "code",
        "colab": {}
      },
      "cell_type": "code",
      "source": [
        "import pandas as pd\n",
        "from collections import OrderedDict\n",
        "from datetime import date"
      ],
      "execution_count": 0,
      "outputs": []
    },
    {
      "metadata": {
        "id": "Sv5Pig0xrWuA",
        "colab_type": "code",
        "colab": {}
      },
      "cell_type": "code",
      "source": [
        "sales = [{'account': 'Jones LLC', 'Jan': 150, 'Feb': 200, 'Mar': 140},\n",
        "         {'account': 'Alpha Co',  'Jan': 200, 'Feb': 210, 'Mar': 215},\n",
        "         {'account': 'Blue Inc',  'Jan': 50,  'Feb': 90,  'Mar': 95 }]\n",
        "df = pd.DataFrame(sales)"
      ],
      "execution_count": 0,
      "outputs": []
    },
    {
      "metadata": {
        "id": "rkgZP2jtrfru",
        "colab_type": "code",
        "colab": {}
      },
      "cell_type": "code",
      "source": [
        "df.to_csv('mydataframe.csv', sep='\\t')"
      ],
      "execution_count": 0,
      "outputs": []
    },
    {
      "metadata": {
        "id": "18dd3TNyplqb",
        "colab_type": "code",
        "colab": {
          "base_uri": "https://localhost:8080/",
          "height": 32
        },
        "outputId": "c22d40a3-3471-41ec-c001-7bf49911a07f"
      },
      "cell_type": "code",
      "source": [
        "file_created = drive.CreateFile({'parents':[{u'id': '1uUwzQLXxAV3m2fjc7GfM2hkFApanQ-DX'}]}) \n",
        "file_created.SetContentFile(\"mydataframe.csv\")\n",
        "file_created.Upload()\n",
        "\n",
        "print('Uploaded file with ID {}'.format(file_created.get('id')))"
      ],
      "execution_count": 24,
      "outputs": [
        {
          "output_type": "stream",
          "text": [
            "Uploaded file with ID 1kOeEgdeihfKSYejv7Qpsmv_-3f1ogpTI\n"
          ],
          "name": "stdout"
        }
      ]
    },
    {
      "metadata": {
        "id": "rH_0zjFQnTvv",
        "colab_type": "code",
        "colab": {
          "base_uri": "https://localhost:8080/",
          "height": 98
        },
        "outputId": "8f435147-85a3-4f71-93fd-c0dcabd138c4"
      },
      "cell_type": "code",
      "source": [
        "# 3. Load a file by ID and print its contents.\n",
        "downloaded = drive.CreateFile({'id': file_created.get('id')})\n",
        "print('Downloaded content \"{}\"'.format(downloaded.GetContentString()))"
      ],
      "execution_count": 25,
      "outputs": [
        {
          "output_type": "stream",
          "text": [
            "Downloaded content \"\tFeb\tJan\tMar\taccount\n",
            "0\t200\t150\t140\tJones LLC\n",
            "1\t210\t200\t215\tAlpha Co\n",
            "2\t90\t50\t95\tBlue Inc\n",
            "\"\n"
          ],
          "name": "stdout"
        }
      ]
    },
    {
      "metadata": {
        "id": "-d_BtiZqu7D_",
        "colab_type": "text"
      },
      "cell_type": "markdown",
      "source": [
        "# Uploading a set of files"
      ]
    },
    {
      "metadata": {
        "id": "ihcCUJPWraIo",
        "colab_type": "code",
        "colab": {
          "base_uri": "https://localhost:8080/",
          "height": 356
        },
        "outputId": "436d9e1b-04ce-4639-b249-cedbbb4e3eef"
      },
      "cell_type": "code",
      "source": [
        "for rand_seed in range(786,790):\n",
        "    print(rand_seed)\n",
        " \n",
        "    \n",
        "    file = drive.CreateFile({'parents':[{u'id': '1uUwzQLXxAV3m2fjc7GfM2hkFApanQ-DX'}]}) \n",
        "    file.SetContentFile('eth_model_randseed_%d.h5'%rand_seed)\n",
        "    file.Upload()\n",
        "     \n",
        "    file = drive.CreateFile({'parents':[{u'id': '1uUwzQLXxAV3m2fjc7GfM2hkFApanQ-DX'}]}) \n",
        "    file.SetContentFile('bt_model_randseed_%d.h5'%rand_seed)\n",
        "    file.Upload()"
      ],
      "execution_count": 26,
      "outputs": [
        {
          "output_type": "stream",
          "text": [
            "786\n"
          ],
          "name": "stdout"
        },
        {
          "output_type": "error",
          "ename": "FileNotFoundError",
          "evalue": "ignored",
          "traceback": [
            "\u001b[0;31m---------------------------------------------------------------------------\u001b[0m",
            "\u001b[0;31mFileNotFoundError\u001b[0m                         Traceback (most recent call last)",
            "\u001b[0;32m<ipython-input-26-78936b0bc50f>\u001b[0m in \u001b[0;36m<module>\u001b[0;34m()\u001b[0m\n\u001b[1;32m      4\u001b[0m \u001b[0;34m\u001b[0m\u001b[0m\n\u001b[1;32m      5\u001b[0m     \u001b[0mfile\u001b[0m \u001b[0;34m=\u001b[0m \u001b[0mdrive\u001b[0m\u001b[0;34m.\u001b[0m\u001b[0mCreateFile\u001b[0m\u001b[0;34m(\u001b[0m\u001b[0;34m{\u001b[0m\u001b[0;34m'parents'\u001b[0m\u001b[0;34m:\u001b[0m\u001b[0;34m[\u001b[0m\u001b[0;34m{\u001b[0m\u001b[0;34mu'id'\u001b[0m\u001b[0;34m:\u001b[0m \u001b[0;34m'1uUwzQLXxAV3m2fjc7GfM2hkFApanQ-DX'\u001b[0m\u001b[0;34m}\u001b[0m\u001b[0;34m]\u001b[0m\u001b[0;34m}\u001b[0m\u001b[0;34m)\u001b[0m\u001b[0;34m\u001b[0m\u001b[0m\n\u001b[0;32m----> 6\u001b[0;31m     \u001b[0mfile\u001b[0m\u001b[0;34m.\u001b[0m\u001b[0mSetContentFile\u001b[0m\u001b[0;34m(\u001b[0m\u001b[0;34m'eth_model_randseed_%d.h5'\u001b[0m\u001b[0;34m%\u001b[0m\u001b[0mrand_seed\u001b[0m\u001b[0;34m)\u001b[0m\u001b[0;34m\u001b[0m\u001b[0m\n\u001b[0m\u001b[1;32m      7\u001b[0m     \u001b[0mfile\u001b[0m\u001b[0;34m.\u001b[0m\u001b[0mUpload\u001b[0m\u001b[0;34m(\u001b[0m\u001b[0;34m)\u001b[0m\u001b[0;34m\u001b[0m\u001b[0m\n\u001b[1;32m      8\u001b[0m \u001b[0;34m\u001b[0m\u001b[0m\n",
            "\u001b[0;32m/usr/local/lib/python3.6/dist-packages/pydrive/files.py\u001b[0m in \u001b[0;36mSetContentFile\u001b[0;34m(self, filename)\u001b[0m\n\u001b[1;32m    167\u001b[0m     \u001b[0;34m:\u001b[0m\u001b[0mtype\u001b[0m \u001b[0mfilename\u001b[0m\u001b[0;34m:\u001b[0m \u001b[0mstr\u001b[0m\u001b[0;34m.\u001b[0m\u001b[0;34m\u001b[0m\u001b[0m\n\u001b[1;32m    168\u001b[0m     \"\"\"\n\u001b[0;32m--> 169\u001b[0;31m     \u001b[0mself\u001b[0m\u001b[0;34m.\u001b[0m\u001b[0mcontent\u001b[0m \u001b[0;34m=\u001b[0m \u001b[0mopen\u001b[0m\u001b[0;34m(\u001b[0m\u001b[0mfilename\u001b[0m\u001b[0;34m,\u001b[0m \u001b[0;34m'rb'\u001b[0m\u001b[0;34m)\u001b[0m\u001b[0;34m\u001b[0m\u001b[0m\n\u001b[0m\u001b[1;32m    170\u001b[0m     \u001b[0;32mif\u001b[0m \u001b[0mself\u001b[0m\u001b[0;34m.\u001b[0m\u001b[0mget\u001b[0m\u001b[0;34m(\u001b[0m\u001b[0;34m'title'\u001b[0m\u001b[0;34m)\u001b[0m \u001b[0;32mis\u001b[0m \u001b[0;32mNone\u001b[0m\u001b[0;34m:\u001b[0m\u001b[0;34m\u001b[0m\u001b[0m\n\u001b[1;32m    171\u001b[0m       \u001b[0mself\u001b[0m\u001b[0;34m[\u001b[0m\u001b[0;34m'title'\u001b[0m\u001b[0;34m]\u001b[0m \u001b[0;34m=\u001b[0m \u001b[0mfilename\u001b[0m\u001b[0;34m\u001b[0m\u001b[0m\n",
            "\u001b[0;31mFileNotFoundError\u001b[0m: [Errno 2] No such file or directory: 'eth_model_randseed_786.h5'"
          ]
        }
      ]
    },
    {
      "metadata": {
        "id": "rw_kDnQPnT5e",
        "colab_type": "code",
        "colab": {}
      },
      "cell_type": "code",
      "source": [
        ""
      ],
      "execution_count": 0,
      "outputs": []
    }
  ]
}